{
 "cells": [
  {
   "cell_type": "code",
   "execution_count": 3,
   "metadata": {},
   "outputs": [],
   "source": [
    "import pandas as pd\n",
    "import numpy as np\n",
    "import sqlite3\n",
    "import ast"
   ]
  },
  {
   "cell_type": "code",
   "execution_count": 4,
   "metadata": {},
   "outputs": [],
   "source": [
    "df_events = pd.read_csv(\n",
    "    r\"C:/Users/pc/Python_Projects/final_project/final_data/2023_24hackle/df_hackle_processed_20230718-08.csv\",\n",
    "    dtype={\"item_name\": str, \"osversion\": str},  # 문제 있는 컬럼을 문자열(str)로 변환\n",
    "    low_memory=False  # 메모리 분할 로딩 방지\n",
    ")\n"
   ]
  },
  {
   "cell_type": "code",
   "execution_count": 5,
   "metadata": {},
   "outputs": [
    {
     "name": "stderr",
     "output_type": "stream",
     "text": [
      "C:\\Users\\pc\\AppData\\Local\\Temp\\ipykernel_14008\\4267760669.py:43: DtypeWarning: Columns (5,16) have mixed types. Specify dtype option on import or set low_memory=False.\n",
      "  df_events = pd.read_csv(r\"C:/Users/pc/Python_Projects/final_project/final_data/2023_24hackle/df_hackle_processed_20230718-08.csv\")\n"
     ]
    }
   ],
   "source": [
    "# SQLite 연결\n",
    "conn = sqlite3.connect(\"network_analysis.db\")\n",
    "cursor = conn.cursor()\n",
    "\n",
    "# 유저 정보 데이터 로드\n",
    "df_users = pd.read_csv(r\"C:/Users/pc/Python_Projects/final_project/final_data/hackle/votes_user_total.csv\")\n",
    "\n",
    "# friend_id_list 컬럼을 리스트로 변환\n",
    "df_users[\"friend_id_list\"] = df_users[\"friend_id_list\"].apply(lambda x: ast.literal_eval(x) if isinstance(x, str) and x.startswith(\"[\") else [])\n",
    "\n",
    "# users 테이블 생성\n",
    "cursor.execute(\"\"\"\n",
    "    CREATE TABLE IF NOT EXISTS users (\n",
    "        user_id INTEGER PRIMARY KEY,\n",
    "        gender TEXT,\n",
    "        grade REAL,\n",
    "        school_id REAL,\n",
    "        friends_num INTEGER\n",
    "    )\n",
    "\"\"\")\n",
    "\n",
    "# 데이터 삽입\n",
    "for _, row in df_users.iterrows():\n",
    "    cursor.execute(\"INSERT INTO users (user_id, gender, grade, school_id, friends_num) VALUES (?, ?, ?, ?, ?)\", \n",
    "                   (row[\"user_id\"], row[\"gender\"], row[\"grade\"], row[\"school_id\"], row[\"friends_num\"]))\n",
    "\n",
    "# 친구 관계 테이블 생성\n",
    "cursor.execute(\"\"\"\n",
    "    CREATE TABLE IF NOT EXISTS friendships (\n",
    "        user_id INTEGER,\n",
    "        friend_id INTEGER,\n",
    "        PRIMARY KEY (user_id, friend_id)\n",
    "    )\n",
    "\"\"\")\n",
    "\n",
    "# 친구 관계 데이터 삽입\n",
    "for _, row in df_users.iterrows():\n",
    "    user_id = row[\"user_id\"]\n",
    "    for friend_id in row[\"friend_id_list\"]:\n",
    "        cursor.execute(\"INSERT OR IGNORE INTO friendships (user_id, friend_id) VALUES (?, ?)\", (user_id, friend_id))\n",
    "\n",
    "# 이벤트 데이터 로드\n",
    "df_events = pd.read_csv(r\"C:/Users/pc/Python_Projects/final_project/final_data/2023_24hackle/df_hackle_processed_20230718-08.csv\")\n",
    "\n",
    "# events 테이블 생성\n",
    "cursor.execute(\"\"\"\n",
    "    CREATE TABLE IF NOT EXISTS events (\n",
    "        user_id INTEGER,\n",
    "        event_datetime TEXT,\n",
    "        event_key TEXT,\n",
    "        date TEXT\n",
    "    )\n",
    "\"\"\")\n",
    "\n",
    "# 데이터 삽입\n",
    "for _, row in df_events.iterrows():\n",
    "    cursor.execute(\"INSERT INTO events (user_id, event_datetime, event_key, date) VALUES (?, ?, ?, ?)\", \n",
    "                   (row[\"user_id\"], row[\"event_datetime\"], row[\"event_key\"], row[\"date\"]))\n",
    "\n",
    "# 친구 요청 테이블 생성\n",
    "df_requests = pd.read_csv(r\"C:/Users/pc/Python_Projects/final_project/final_data/pjdata/votes/accounts_friendrequest.csv\")\n",
    "\n",
    "cursor.execute(\"\"\"\n",
    "    CREATE TABLE IF NOT EXISTS friend_requests (\n",
    "        receive_user_id INTEGER,\n",
    "        send_user_id INTEGER,\n",
    "        status TEXT,\n",
    "        created_at TEXT\n",
    "    )\n",
    "\"\"\")\n",
    "\n",
    "# 데이터 삽입\n",
    "for _, row in df_requests.iterrows():\n",
    "    cursor.execute(\"INSERT INTO friend_requests (receive_user_id, send_user_id, status, created_at) VALUES (?, ?, ?, ?)\", \n",
    "                   (row[\"receive_user_id\"], row[\"send_user_id\"], row[\"status\"], row[\"created_at\"]))\n",
    "\n",
    "conn.commit()\n",
    "conn.close()\n"
   ]
  }
 ],
 "metadata": {
  "kernelspec": {
   "display_name": "bike",
   "language": "python",
   "name": "python3"
  },
  "language_info": {
   "codemirror_mode": {
    "name": "ipython",
    "version": 3
   },
   "file_extension": ".py",
   "mimetype": "text/x-python",
   "name": "python",
   "nbconvert_exporter": "python",
   "pygments_lexer": "ipython3",
   "version": "3.12.4"
  }
 },
 "nbformat": 4,
 "nbformat_minor": 2
}
